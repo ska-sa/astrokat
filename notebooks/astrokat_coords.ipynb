{
  "nbformat": 4,
  "nbformat_minor": 0,
  "metadata": {
    "colab": {
      "name": "astrokat-coords.ipynb",
      "provenance": [],
      "collapsed_sections": [],
      "toc_visible": true,
      "authorship_tag": "ABX9TyM6Ss3AciV5qgrWVJMGyLf3",
      "include_colab_link": true
    },
    "kernelspec": {
      "name": "python3",
      "display_name": "Python 3"
    }
  },
  "cells": [
    {
      "cell_type": "markdown",
      "metadata": {
        "id": "view-in-github",
        "colab_type": "text"
      },
      "source": [
        "<a href=\"https://colab.research.google.com/github/rubyvanrooyen/astrokat/blob/master/notebooks/astrokat_coords.ipynb\" target=\"_parent\"><img src=\"https://colab.research.google.com/assets/colab-badge.svg\" alt=\"Open In Colab\"/></a>"
      ]
    },
    {
      "cell_type": "markdown",
      "metadata": {
        "id": "KVAI_BM-eZf8"
      },
      "source": [
        "# AstroKAT galactic coordinate converter\n",
        "\n",
        "Convenience calculator to transform Galactic coordinates to the ICRS frame\n",
        "\n",
        "For more detail refer to the\n",
        "[Galactic coordinates to ICRS](https://github.com/ska-sa/astrokat/wiki/Galactic-coordinates-to-ICRS)\n",
        "documentation on the\n",
        "[AstroKAT](https://github.com/ska-sa/astrokat/wiki)\n",
        "wiki page.\n"
      ]
    },
    {
      "cell_type": "markdown",
      "metadata": {
        "id": "qeel-oiezpX_"
      },
      "source": [
        "## Installation and setup"
      ]
    },
    {
      "cell_type": "code",
      "metadata": {
        "id": "Qitxbc-n62r7"
      },
      "source": [
        "!pip install git+https://github.com/ska-sa/astrokat.git"
      ],
      "execution_count": null,
      "outputs": []
    },
    {
      "cell_type": "code",
      "metadata": {
        "id": "pghftjCn6_yX"
      },
      "source": [
        "!git clone https://github.com/ska-sa/astrokat.git"
      ],
      "execution_count": null,
      "outputs": []
    },
    {
      "cell_type": "code",
      "metadata": {
        "id": "SQypWvRSGFe_"
      },
      "source": [
        "!ln -s /content/astrokat/scripts/astrokat-coords.py gal2icrs.py"
      ],
      "execution_count": 2,
      "outputs": []
    },
    {
      "cell_type": "markdown",
      "metadata": {
        "id": "TMxNquZEISMp"
      },
      "source": [
        "## User input"
      ]
    },
    {
      "cell_type": "markdown",
      "metadata": {
        "id": "MeFZ1Ohn-TZG"
      },
      "source": [
        "Galactic coordinates as strings or as degree float"
      ]
    },
    {
      "cell_type": "code",
      "metadata": {
        "id": "8UVse9DOI0Zx",
        "cellView": "form"
      },
      "source": [
        "#@markdown target name\n",
        "name =  ' T11R00C02' #@param {type:\"string\"}\n",
        "#@markdown galactic longitude ('21h51m30.37s' or '21.8584h' or '327.8760d')\n",
        "l =  '21h51m30.37s' #@param {type:\"string\"}\n",
        "#@markdown galactic latitude ('+00d59m15.56s' or '0.9877d')\n",
        "b =  '+00d59m15.56s' #@param {type:\"string\"}"
      ],
      "execution_count": 3,
      "outputs": []
    },
    {
      "cell_type": "markdown",
      "metadata": {
        "id": "7s4bLuCDwrvA"
      },
      "source": [
        "## Convert galactic to icrs"
      ]
    },
    {
      "cell_type": "code",
      "metadata": {
        "id": "SQ_M2v5A6_u-"
      },
      "source": [
        "import astrokat\n",
        "import gal2icrs"
      ],
      "execution_count": 4,
      "outputs": []
    },
    {
      "cell_type": "code",
      "metadata": {
        "id": "fgOTkyhtBc0Y",
        "colab": {
          "base_uri": "https://localhost:8080/"
        },
        "outputId": "97a0c9d4-5081-47b7-f7c1-8de2d84f3250"
      },
      "source": [
        "[gal_coord, radec_coord] = gal2icrs.gal2icrs_skycoord(l,b)\n",
        "gal2icrs.display_galactic(gal_coord, name=name)\n",
        "gal2icrs.display_radec(radec_coord) "
      ],
      "execution_count": 5,
      "outputs": [
        {
          "output_type": "stream",
          "text": [
            "Target  T11R00C02\n",
            "Galactic coordinates\n",
            "\t(21:51:30.3700, +00:59:15.5600) = (21.8584h, 0.9877d) = (327.8765d, 0.9877d)\n",
            "(RA, DEC) coordinates\n",
            "\t(15:49:32.3166, -53:02:00.3906) = (15.8256h, -53.0334d) = (237.3847d, -53.0334d)\n"
          ],
          "name": "stdout"
        }
      ]
    },
    {
      "cell_type": "code",
      "metadata": {
        "id": "aSHMtD316_8Y"
      },
      "source": [
        ""
      ],
      "execution_count": 5,
      "outputs": []
    }
  ]
}