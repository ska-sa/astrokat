{
  "nbformat": 4,
  "nbformat_minor": 0,
  "metadata": {
    "colab": {
      "name": "astrokat-lst.ipynb",
      "provenance": [],
      "toc_visible": true,
      "authorship_tag": "ABX9TyMJUA911Wv3veCPZbrQmFCH",
      "include_colab_link": true
    },
    "kernelspec": {
      "name": "python3",
      "display_name": "Python 3"
    }
  },
  "cells": [
    {
      "cell_type": "markdown",
      "metadata": {
        "id": "view-in-github",
        "colab_type": "text"
      },
      "source": [
        "<a href=\"https://colab.research.google.com/github/rubyvanrooyen/astrokat/blob/master/notebooks/astrokat_lst.ipynb\" target=\"_parent\"><img src=\"https://colab.research.google.com/assets/colab-badge.svg\" alt=\"Open In Colab\"/></a>"
      ]
    },
    {
      "cell_type": "markdown",
      "metadata": {
        "id": "9X6GtW8BUBCg"
      },
      "source": [
        "# AstroKAT LST calculation tools\n",
        "\n",
        "Time calculations providing LST information relative to the MeerKAT telescope\n",
        "\n",
        "For more detail refer to the\n",
        "[MeerKAT LST tools](https://github.com/ska-sa/astrokat/wiki/MeerKAT-LST-tools)\n",
        "documentation on the\n",
        "[AstroKAT](https://github.com/ska-sa/astrokat/wiki)\n",
        "wiki page.\n"
      ]
    },
    {
      "cell_type": "markdown",
      "metadata": {
        "id": "3nTZav3jDD1N"
      },
      "source": [
        "## Installation and setup"
      ]
    },
    {
      "cell_type": "code",
      "metadata": {
        "id": "xA6fNhteSgtD"
      },
      "source": [
        "!pip install git+https://github.com/ska-sa/astrokat.git"
      ],
      "execution_count": null,
      "outputs": []
    },
    {
      "cell_type": "code",
      "metadata": {
        "id": "TG0ITwqkUeTw"
      },
      "source": [
        "!git clone https://github.com/ska-sa/astrokat.git"
      ],
      "execution_count": null,
      "outputs": []
    },
    {
      "cell_type": "code",
      "metadata": {
        "id": "BhFucSNtUeCG"
      },
      "source": [
        "!ln -s /content/astrokat/scripts/astrokat-lst.py lstcals.py"
      ],
      "execution_count": 2,
      "outputs": []
    },
    {
      "cell_type": "code",
      "metadata": {
        "id": "a75A8cUeUd_B"
      },
      "source": [
        "from datetime import datetime\n",
        "import astrokat\n",
        "import lstcals"
      ],
      "execution_count": 3,
      "outputs": []
    },
    {
      "cell_type": "markdown",
      "metadata": {
        "id": "Fn_leHR59_v7"
      },
      "source": [
        "## MeerKAT LST for a given UTC date and time\n",
        "\n",
        "`astrokat-lst.py --date '2018-08-06 12:34'`"
      ]
    },
    {
      "cell_type": "code",
      "metadata": {
        "id": "CHl7Qy706Bv3",
        "cellView": "form"
      },
      "source": [
        "date_input = '2018-08-06' #@param {type:\"date\"}\n",
        "hour =  12#@param {type:\"integer\"}\n",
        "minute =  34#@param {type:\"integer\"}"
      ],
      "execution_count": 4,
      "outputs": []
    },
    {
      "cell_type": "code",
      "metadata": {
        "id": "gB1YkhNO_A1d",
        "colab": {
          "base_uri": "https://localhost:8080/"
        },
        "outputId": "ba2e3a33-bf5e-4b98-963d-1848399c8d5c"
      },
      "source": [
        "date_str = lstcals.longformat_date(f'{date_input} {hour}:{minute}')\n",
        "print(date_str)\n",
        "utc_datetime = datetime.strptime(date_str, \"%Y-%m-%d %H:%M\")\n",
        "print(lstcals.date2lst(utc_datetime))"
      ],
      "execution_count": 5,
      "outputs": [
        {
          "output_type": "stream",
          "text": [
            "2018-08-06 12:34\n",
            "At 2018/8/6 12:34:00Z MeerKAT LST will be 10:59:45.92\n"
          ],
          "name": "stdout"
        }
      ]
    },
    {
      "cell_type": "markdown",
      "metadata": {
        "id": "PG8JjXGGVANO"
      },
      "source": [
        "## Calculate per target rise and set LST times\n",
        "\n",
        "`astrokat-lst.py --target 17:22:27.46877 -38:12:09.4023`"
      ]
    },
    {
      "cell_type": "code",
      "metadata": {
        "id": "uyBQQ1POUd3_",
        "cellView": "form"
      },
      "source": [
        "RA = '17:22:27.46877' #@param {type:\"string\"}\n",
        "Decl = '-38:12:09.4023' #@param {type:\"string\"}"
      ],
      "execution_count": 6,
      "outputs": []
    },
    {
      "cell_type": "code",
      "metadata": {
        "id": "h9K4IBthUdwD",
        "colab": {
          "base_uri": "https://localhost:8080/"
        },
        "outputId": "adb81119-8d1d-4c2e-8f1c-d065fa69b37d"
      },
      "source": [
        "target_coord = [RA, Decl]\n",
        "print(lstcals.targetlst(target_coord))"
      ],
      "execution_count": 7,
      "outputs": [
        {
          "output_type": "stream",
          "text": [
            "Target (17:22:27.46877 -38:12:09.4023) rises at LST 11:32:44.75 and sets at LST 23:15:03.98\n"
          ],
          "name": "stdout"
        }
      ]
    },
    {
      "cell_type": "markdown",
      "metadata": {
        "id": "eiLWjOUeVDOw"
      },
      "source": [
        "## Simple tool to figure out when an observation will start given the LST hour\n",
        "`astrokat-lst.py --lst 10.6 --date 2018-08-06`"
      ]
    },
    {
      "cell_type": "code",
      "metadata": {
        "id": "PN1B_JAtUdmM",
        "cellView": "form"
      },
      "source": [
        "date_input = '2018-08-06' #@param {type:\"date\"}\n",
        "lst =  10.6 #@param {type:\"number\"}"
      ],
      "execution_count": 8,
      "outputs": []
    },
    {
      "cell_type": "code",
      "metadata": {
        "id": "ER81vV-9UdMm",
        "colab": {
          "base_uri": "https://localhost:8080/"
        },
        "outputId": "4ed18cb8-aecb-4c4b-b21f-9dad78f8703a"
      },
      "source": [
        "print(lstcals.lst2datetime(lst, date_input))"
      ],
      "execution_count": 9,
      "outputs": [
        {
          "output_type": "stream",
          "text": [
            "2018-08-06 10.6 LST corresponds to 2018-08-06 12:10:17.973608Z UTC\n"
          ],
          "name": "stdout"
        }
      ]
    },
    {
      "cell_type": "code",
      "metadata": {
        "id": "qIU7XX1zpLB5"
      },
      "source": [
        ""
      ],
      "execution_count": null,
      "outputs": []
    }
  ]
}