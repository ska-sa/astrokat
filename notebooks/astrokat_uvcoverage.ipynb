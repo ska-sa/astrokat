{
  "nbformat": 4,
  "nbformat_minor": 0,
  "metadata": {
    "colab": {
      "name": "astrokat-uvcoverage.ipynb",
      "provenance": [],
      "toc_visible": true,
      "authorship_tag": "ABX9TyMNExhYj25BRNBTLYQFBD7x",
      "include_colab_link": true
    },
    "kernelspec": {
      "display_name": "Python 3",
      "name": "python3"
    }
  },
  "cells": [
    {
      "cell_type": "markdown",
      "metadata": {
        "id": "view-in-github",
        "colab_type": "text"
      },
      "source": [
        "<a href=\"https://colab.research.google.com/github/rubyvanrooyen/astrokat/blob/master/notebooks/astrokat_uvcoverage.ipynb\" target=\"_parent\"><img src=\"https://colab.research.google.com/assets/colab-badge.svg\" alt=\"Open In Colab\"/></a>"
      ]
    },
    {
      "cell_type": "markdown",
      "metadata": {
        "id": "agiwODqtoVNw"
      },
      "source": [
        "# Casa installation\n",
        "\n",
        "Google colab upgraded default python for runtime environment to 3.7 in Feb 2021.   \n",
        "At 9 April 2021, no wheel exists for casatools and casatasks installation, using CASA suggested  install of pre-release version for 3.7 and 3.8."
      ]
    },
    {
      "cell_type": "code",
      "metadata": {
        "id": "k5rNEzRhiLYK"
      },
      "source": [
        "!apt-get install libgfortran3"
      ],
      "execution_count": null,
      "outputs": []
    },
    {
      "cell_type": "markdown",
      "metadata": {
        "id": "DNxMiqGjo4ts"
      },
      "source": [
        "Check current python version"
      ]
    },
    {
      "cell_type": "code",
      "metadata": {
        "colab": {
          "base_uri": "https://localhost:8080/"
        },
        "id": "I7-QnmHQnDJh",
        "outputId": "375f7d2a-b987-4ff0-cf7d-a232326a312c"
      },
      "source": [
        "!python --version"
      ],
      "execution_count": 2,
      "outputs": [
        {
          "output_type": "stream",
          "text": [
            "Python 3.7.10\n"
          ],
          "name": "stdout"
        }
      ]
    },
    {
      "cell_type": "markdown",
      "metadata": {
        "id": "PKEmyl80qEXD"
      },
      "source": [
        "See if a wheel exist for casatools installation\n",
        "\n",
        "https://casa.nrao.edu/casa_obtaining.shtml and     \n",
        "https://casa.nrao.edu/casadocs/latest/usingcasa/obtaining-and-installing\n",
        "\n",
        "If a wheel exists for this version of python, add the code block as per example (for 3.6)   \n",
        "`!pip install --index-url https://casa-pip.nrao.edu/repository/pypi-casa-release/simple casatools==6.0.0.27`"
      ]
    },
    {
      "cell_type": "markdown",
      "metadata": {
        "id": "zoZ0hrdIsEJp"
      },
      "source": [
        "No wheel currently available for 3.7, notes on work around for >=3.7    \n",
        "https://www.magclouds.org/casa6-docker/html/install/usage.html    \n",
        "(https://pypi.org/project/casa6-install/)"
      ]
    },
    {
      "cell_type": "code",
      "metadata": {
        "colab": {
          "base_uri": "https://localhost:8080/"
        },
        "id": "MuiNcT3Zj_4W",
        "outputId": "f4eb3f96-b88b-4e69-c1ee-dcf7640f74eb"
      },
      "source": [
        "!git clone https://github.com/r-xue/casa6-docker.git"
      ],
      "execution_count": 3,
      "outputs": [
        {
          "output_type": "stream",
          "text": [
            "Cloning into 'casa6-docker'...\n",
            "remote: Enumerating objects: 316, done.\u001b[K\n",
            "remote: Counting objects: 100% (316/316), done.\u001b[K\n",
            "remote: Compressing objects: 100% (172/172), done.\u001b[K\n",
            "remote: Total 316 (delta 136), reused 299 (delta 123), pack-reused 0\u001b[K\n",
            "Receiving objects: 100% (316/316), 10.21 MiB | 19.50 MiB/s, done.\n",
            "Resolving deltas: 100% (136/136), done.\n"
          ],
          "name": "stdout"
        }
      ]
    },
    {
      "cell_type": "code",
      "metadata": {
        "id": "OvhvjXPfj_s3"
      },
      "source": [
        "!ln -s /content/casa6-docker/casa6_install/casa6_install.py casa6_install.py"
      ],
      "execution_count": 4,
      "outputs": []
    },
    {
      "cell_type": "code",
      "metadata": {
        "id": "u4ASObZQj_iy"
      },
      "source": [
        "!python casa6_install.py"
      ],
      "execution_count": null,
      "outputs": []
    },
    {
      "cell_type": "code",
      "metadata": {
        "id": "E_IMfFqKx9dI"
      },
      "source": [
        "import casatools"
      ],
      "execution_count": 6,
      "outputs": []
    },
    {
      "cell_type": "markdown",
      "metadata": {
        "id": "C4H3a1T957a2"
      },
      "source": [
        "# Import additional libraries"
      ]
    },
    {
      "cell_type": "code",
      "metadata": {
        "id": "2aFo-nLQszvq"
      },
      "source": [
        "from astropy.coordinates import ICRS, GCRS, SkyCoord\n",
        "from astropy.coordinates import Longitude, Latitude, EarthLocation\n",
        "from astropy.coordinates import CartesianRepresentation, SphericalRepresentation\n",
        "from datetime import datetime, timedelta\n",
        "\n",
        "import astropy\n",
        "import astropy.time\n",
        "import astropy.units as u\n",
        "import numpy as np"
      ],
      "execution_count": 7,
      "outputs": []
    },
    {
      "cell_type": "markdown",
      "metadata": {
        "id": "hmFZt4tzyB77"
      },
      "source": [
        "## Do this to get updated IERS B values into astropy"
      ]
    },
    {
      "cell_type": "code",
      "metadata": {
        "id": "1BlCUSj5WRll"
      },
      "source": [
        "from astropy.utils import iers\n",
        "from astropy.utils import data\n",
        "iers_b = iers.IERS_B.open(data.download_file(iers.IERS_B_URL, cache=True))\n",
        "iers_auto = iers.IERS_Auto.open()"
      ],
      "execution_count": 8,
      "outputs": []
    },
    {
      "cell_type": "markdown",
      "metadata": {
        "id": "-jbi5DH35rk6"
      },
      "source": [
        "# Define target and time of observation"
      ]
    },
    {
      "cell_type": "code",
      "metadata": {
        "id": "rfg8fZcm785W"
      },
      "source": [
        "# J1939-6342\n",
        "# https://docs.astropy.org/en/stable/coordinates/index.html\n",
        "target = SkyCoord('19h39m25.0264s', '-63d42m45.624s', frame='icrs')\n",
        "obs_time = datetime(2013, 6, 21, 21)\n",
        "# https://docs.astropy.org/en/stable/api/astropy.time.Time.html\n",
        "obs_time = astropy.time.Time(obs_time, format='datetime', scale='utc')"
      ],
      "execution_count": 9,
      "outputs": []
    },
    {
      "cell_type": "markdown",
      "metadata": {
        "id": "JN8DtvAS7qRm"
      },
      "source": [
        "# MeerKAT\n",
        "\n",
        "The antenna locations as measured using theodelite can be found in the ARIWS cookbook:    \n",
        "https://github.com/ska-sa/ARIWS-Cookbook/tree/main/data   \n",
        "More accurate antenna locations can be found in the MeerKAT observation data itself.\n",
        "\n",
        "Antenna positions and pointing models are part of the MeerKAT meta-data accompanying all observations.   \n",
        "See MeerKAT Cookbook for information:   \n",
        "https://github.com/ska-sa/MeerKAT-Cookbook\n",
        "\n",
        "Specifically the notebook:    \n",
        "https://github.com/ska-sa/MeerKAT-Cookbook/blob/master/katdal/Explaining%20MeerKAT%20array%20information.ipynb"
      ]
    },
    {
      "cell_type": "code",
      "metadata": {
        "colab": {
          "base_uri": "https://localhost:8080/"
        },
        "id": "AfCquf8i7tA-",
        "outputId": "76f669c7-9d46-4d37-c41a-9411607406e2"
      },
      "source": [
        "\"\"\"General Earth position for the Telescope\"\"\"\n",
        "# reference position is given in geodetic coordinates (lat, lon, height)\n",
        "# convert to geocentric coordinates (x, y, z)\n",
        "telescope = EarthLocation.from_geodetic(Longitude('21:26:38.0', u.degree, wrap_angle=180. * u.degree, copy=False),\n",
        "                                        Latitude('-30:42:39.8', u.degree, copy=False),\n",
        "                                        height=u.Quantity(1086.6, u.m, copy=False))\n",
        "print(f'Telescope MKT {telescope}')\n",
        "[ref_x, ref_y, ref_z] = telescope.geocentric\n",
        "\n",
        "# MeerKAT antenna positions (E, N, U) offset from telescope reference location\n",
        "antpos = np.array([[-8.264, -207.29, 8.5965],  # m000\n",
        "                   [1.1205, -171.762, 8.4705],  # m001\n",
        "                   [-32.113, -224.236, 8.6445],  # m002\n",
        "                   [-66.518, -202.276, 8.285],  # m003\n",
        "                   [-123.624, -252.946, 8.513],  # m004\n",
        "                   [-102.088, -283.12, 8.875],  # m005\n",
        "                   [-18.2315, -295.428, 9.188],  # m006\n",
        "                   [-89.592, -402.732, 9.7685],  # m007\n",
        "                   [-93.527, -535.026, 10.4445],  # m008\n",
        "                   [32.3565, -371.0555, 10.14],  # m009\n",
        "                   [88.095, -511.872, 11.1855],  # m010\n",
        "                   [84.0115, -352.078, 10.151],  # m011\n",
        "                   [140.019, -368.267, 10.4485],  # m012\n",
        "                   [236.7915, -393.46, 11.124],  # m013\n",
        "                   [280.669, -285.792, 10.5465],  # m014\n",
        "                   [210.6435, -219.1415, 9.738],  # m015\n",
        "                   [288.159, -185.873, 9.795],  # m016\n",
        "                   [199.6235, -112.263, 8.9545],  # m017\n",
        "                   [105.7265, -245.8695, 9.529],  # m018\n",
        "                   [170.7865, -285.223, 10.0705],  # m019\n",
        "                   [97.016, -299.638, 9.8765],  # m020\n",
        "                   [-295.9655, -327.241, 8.117],  # m021\n",
        "                   [-373.0015, 0.544, 5.649],  # m022\n",
        "                   [-322.306, -142.1845, 6.8245],  # m023\n",
        "                   [-351.0455, 150.088, 4.845],  # m024\n",
        "                   [-181.9775, 225.617, 5.068],  # m025\n",
        "                   [-99.0035, 17.045, 6.811],  # m026\n",
        "                   [40.4745, -23.112, 7.694],  # m027\n",
        "                   [-51.179, -87.17, 7.6355],  # m028\n",
        "                   [-88.7615, -124.111, 7.6995],  # m029\n",
        "                   [171.2805, 113.949, 7.278],  # m030\n",
        "                   [246.5665, 93.756, 7.4685],  # m031\n",
        "                   [461.2745, 175.505, 7.367],  # m032\n",
        "                   [580.678, 863.9585, 3.5995],  # m033\n",
        "                   [357.8105, -28.308, 8.972],  # m034\n",
        "                   [386.152, -180.8935, 10.2895],  # m035\n",
        "                   [388.2565, -290.759, 10.812],  # m036\n",
        "                   [380.2855, -459.3085, 12.1715],  # m037\n",
        "                   [213.308, -569.08, 11.946],  # m038\n",
        "                   [253.7475, -592.1465, 12.441],  # m039\n",
        "                   [-26.858, -712.219, 11.8325],  # m040\n",
        "                   [-287.545, -661.678, 9.9485],  # m041\n",
        "                   [-361.7135, -460.318, 8.497],  # m042\n",
        "                   [-629.8525, -128.326, 5.264],  # m043\n",
        "                   [-896.164, 600.4965, -0.6395],  # m044\n",
        "                   [-1832.8595, 266.75, 0.1075],  # m045\n",
        "                   [-1467.341, 1751.923, -7.0775],  # m046\n",
        "                   [-578.2955, -517.2965, 7.6145],  # m047\n",
        "                   [-2805.653, 2686.863, -9.7545],  # m048\n",
        "                   [-3605.9565, 436.462, 2.696],  # m049\n",
        "                   [-2052.336, -843.7145, 5.3375],  # m050\n",
        "                   [-850.255, -769.359, 7.6135],  # m051\n",
        "                   [-593.192, -1148.652, 10.55],  # m052\n",
        "                   [9.3645, -1304.462, 15.032],  # m053\n",
        "                   [871.9795, -499.812, 13.3635],  # m054\n",
        "                   [1201.7795, 96.492, 10.0225],  # m055\n",
        "                   [1598.4025, 466.6675, 6.99],  # m056\n",
        "                   [294.6445, 3259.9145, -10.6365],  # m057\n",
        "                   [2805.764, 2686.873, -3.6595],  # m058\n",
        "                   [3686.4265, 758.895, 11.8215],  # m059\n",
        "                   [3419.6825, -1840.478, 23.6965],  # m060\n",
        "                   [-16.4085, -2323.779, 21.304],  # m061\n",
        "                   [-1440.6315, -2503.773, 21.6825],  # m062\n",
        "                   [-3419.5845, -1840.48, 16.3825],  # m063\n",
        "                   ]) * u.m\n",
        "\n",
        "L = Latitude('-30:42:39.8', u.degree, copy=False)\n",
        "L_sin = np.sin(L.rad)\n",
        "L_cos = np.cos(L.rad)\n",
        "x = -L_sin * antpos[:,1] + L_cos * antpos[:,2]\n",
        "y = antpos[:,0]\n",
        "z = L_cos * antpos[:,1] + L_sin * antpos[:,2]\n",
        "\n",
        "# Format antenna positions\n",
        "antpos=np.array([ref_x+x, ref_y+y, ref_z+z]).T * u.m"
      ],
      "execution_count": 10,
      "outputs": [
        {
          "output_type": "stream",
          "text": [
            "Telescope MKT (5109360.13332123, 2006852.58604291, -3238948.12747888) m\n"
          ],
          "name": "stdout"
        }
      ]
    },
    {
      "cell_type": "markdown",
      "metadata": {
        "id": "2tvqwj22BUlV"
      },
      "source": [
        "# UV coverage"
      ]
    },
    {
      "cell_type": "code",
      "metadata": {
        "id": "HFjGK0u7C5BP"
      },
      "source": [
        "# The necessary interfaces:\n",
        "me = casatools.measures()\n",
        "qa = casatools.quanta()\n",
        "qq = qa.quantity"
      ],
      "execution_count": 11,
      "outputs": []
    },
    {
      "cell_type": "code",
      "metadata": {
        "colab": {
          "base_uri": "https://localhost:8080/"
        },
        "id": "Inz2ZXcnC416",
        "outputId": "823a8976-25c4-4b33-dcea-72dd6a3bbfa1"
      },
      "source": [
        "telescope = 'MeerKAT'\n",
        "print(me.observatory(telescope))"
      ],
      "execution_count": 12,
      "outputs": [
        {
          "output_type": "stream",
          "text": [
            "{'m0': {'unit': 'rad', 'value': 0.37426665946841203}, 'm1': {'unit': 'rad', 'value': -0.5360464638235224}, 'm2': {'unit': 'm', 'value': 1050.0}, 'refer': 'WGS84', 'type': 'position'}\n"
          ],
          "name": "stdout"
        }
      ]
    },
    {
      "cell_type": "code",
      "metadata": {
        "colab": {
          "base_uri": "https://localhost:8080/"
        },
        "id": "R_YEsLp-Ea0I",
        "outputId": "f97f08c7-47fd-4eed-d4ae-860e9efac5a8"
      },
      "source": [
        "# Init CASA frame info:\n",
        "me.doframe(me.observatory(telescope))\n",
        "me.doframe(me.epoch('UTC',qq(obs_time.mjd,'d')))\n",
        "me.doframe(me.direction('J2000',\n",
        "                        qq(target.ra.to(u.rad).value, 'rad'),\n",
        "                        qq(target.dec.to(u.rad).value, 'rad')))"
      ],
      "execution_count": 13,
      "outputs": [
        {
          "output_type": "execute_result",
          "data": {
            "text/plain": [
              "True"
            ]
          },
          "metadata": {
            "tags": []
          },
          "execution_count": 13
        }
      ]
    },
    {
      "cell_type": "code",
      "metadata": {
        "id": "SrdkTcbLF17N"
      },
      "source": [
        "# Format antenna positions for CASA\n",
        "ap_T_casa = me.position('ITRF',\n",
        "                        qq(antpos[:,0].to(u.m).value,'m'),\n",
        "                        qq(antpos[:,1].to(u.m).value,'m'),\n",
        "                        qq(antpos[:,2].to(u.m).value,'m'))\n",
        "# Converts from ITRF to ICRF (\"J2000\")\n",
        "ap_C_casa = me.asbaseline(ap_T_casa)\n",
        "\n",
        "# Rotate into UVW frame\n",
        "ap_UVW_casa = me.touvw(ap_C_casa)[0]"
      ],
      "execution_count": 14,
      "outputs": []
    },
    {
      "cell_type": "code",
      "metadata": {
        "id": "1zIvxgyRx9RB"
      },
      "source": [
        "def casa_to_astropy(c):\n",
        "    \"\"\"Convert CASA spherical coords to astropy CartesianRepresentation\"\"\"\n",
        "    sph = SphericalRepresentation(lon=c['m0']['value']*u.Unit(c['m0']['unit']),\n",
        "                                  lat=c['m1']['value']*u.Unit(c['m1']['unit']),\n",
        "                                  distance=c['m2']['value']*u.Unit(c['m2']['unit']))\n",
        "    return sph.represent_as(CartesianRepresentation)\n",
        "\n",
        "# me.expand would compute all pairs of baselines but here we convert\n",
        "# to astropy CartesianRepresentation, and only do baselines to the\n",
        "# first antenna for easier comparison\n",
        "casa_UVW_bl = casa_to_astropy(ap_UVW_casa)\n"
      ],
      "execution_count": 15,
      "outputs": []
    },
    {
      "cell_type": "code",
      "metadata": {
        "id": "BJF4cL2YSnvK"
      },
      "source": [
        "def get_uvwcoverage(casa_UVW_bl, casa_UVW_coverage):\n",
        "    nants = len(casa_UVW_bl)\n",
        "    for idx0 in range(nants):\n",
        "        ap_UVW_bl = casa_UVW_bl - casa_UVW_bl[idx0]\n",
        "        # add results to coverage map\n",
        "        bl_idx_start = idx0*ap_UVW_bl.size\n",
        "        bl_idx_end = bl_idx_start+nants\n",
        "        casa_UVW_coverage[bl_idx_start:bl_idx_end,:] = ap_UVW_bl.xyz.T\n",
        "\n",
        "[nants, _] = np.shape(antpos)\n",
        "nbls = nants*nants\n",
        "casa_UVW_coverage = np.zeros([nbls, 3])  # nbl x uvw x nts\n",
        "get_uvwcoverage(casa_UVW_bl, casa_UVW_coverage)"
      ],
      "execution_count": 16,
      "outputs": []
    },
    {
      "cell_type": "markdown",
      "metadata": {
        "id": "_Mwm9YS-D9SC"
      },
      "source": [
        "# Show results"
      ]
    },
    {
      "cell_type": "code",
      "metadata": {
        "colab": {
          "base_uri": "https://localhost:8080/",
          "height": 567
        },
        "id": "GNqCGIL5T10U",
        "outputId": "fa246344-d459-4877-aa1a-dbca649923cf"
      },
      "source": [
        "import matplotlib.pylab as plt\n",
        "def plot_uv(bl_uvw, fig=None, ax=None, clr='b'):  # all ts per bl\n",
        "    \"\"\"UV coverage graph\"\"\"\n",
        "    if fig is None:\n",
        "        fig, ax = plt.subplots(nrows=1, ncols=1,\n",
        "                               figsize=(20, 13),  # W x H\n",
        "                               facecolor='white')\n",
        "    ax.plot(bl_uvw[:, 0], bl_uvw[:, 1],\n",
        "            color=clr,\n",
        "            marker='.', markersize=2,\n",
        "            linestyle='none')\n",
        "    return fig, ax\n",
        "\n",
        "fig, ax = plt.subplots(nrows=1, ncols=1, figsize=(11, 9), facecolor='white')\n",
        "ax.set_title(f'Declination {target.dec.degree:.2f} deg: CASA UV coverage')\n",
        "plot_uv(casa_UVW_coverage, fig=fig, ax=ax, clr='r')\n",
        "ax.set_xlabel('u')\n",
        "ax.set_ylabel('v')\n",
        "plt.show()"
      ],
      "execution_count": 17,
      "outputs": [
        {
          "output_type": "display_data",
          "data": {
            "image/png": "[encoded data removed]",
            "text/plain": [
              "<Figure size 792x648 with 1 Axes>"
            ]
          },
          "metadata": {
            "tags": []
          }
        }
      ]
    },
    {
      "cell_type": "code",
      "metadata": {
        "id": "Xlq89h0DT6Oa"
      },
      "source": [
        ""
      ],
      "execution_count": null,
      "outputs": []
    }
  ]
}